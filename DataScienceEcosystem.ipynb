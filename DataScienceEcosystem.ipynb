{
 "cells": [
  {
   "cell_type": "markdown",
   "id": "15b6c127-1e12-4773-9961-9f102913a7bf",
   "metadata": {},
   "source": [
    "# Data Science Tools and Ecosystem"
   ]
  },
  {
   "cell_type": "markdown",
   "id": "443d9011-fa14-4df4-afb3-9b6fbc22eb4e",
   "metadata": {},
   "source": [
    "In this notebook, Data Science Tools and Ecosystem are summarized."
   ]
  },
  {
   "cell_type": "markdown",
   "id": "d04e3115-e61f-4a86-b559-8bec76d4b32f",
   "metadata": {
    "tags": []
   },
   "source": [
    "Objectives that this notebook covered :\n",
    "\n",
    "- Understand popular languages used by datascientists\n",
    "- Know principals languages used by datascientists\n",
    "- Understand what is Jupiter and how to use it\n",
    "- Understand notion of cells for executing codes and markdowns (titles, texts, tables)"
   ]
  },
  {
   "cell_type": "markdown",
   "id": "15c13738-f8be-4ba7-a873-f948fd4dce3b",
   "metadata": {
    "tags": []
   },
   "source": [
    "Some of the popular languages that Data Scientists use are:\n",
    "- Python\n",
    "- R\n",
    "- Scala"
   ]
  },
  {
   "cell_type": "markdown",
   "id": "5a56badc-778b-4519-b263-3b172ce529e6",
   "metadata": {
    "tags": []
   },
   "source": [
    "Some of the commonly used libraries used by Data Scientists include:\n",
    "\n",
    "- Scikit-learn\n",
    "- Tensorflow\n",
    "- Pandas\n",
    "- Seaborn\n",
    "- Numpy"
   ]
  },
  {
   "cell_type": "markdown",
   "id": "f3384d98-1ee7-4441-b72b-00a24293ce83",
   "metadata": {},
   "source": [
    "| Data science tools |\n",
    "|--------------------|\n",
    "| Python             | \n",
    "| R                  | \n",
    "| TensorFlow         | \n",
    "| PyTorch            |"
   ]
  },
  {
   "cell_type": "markdown",
   "id": "1d14c93a-8428-4a63-a7f0-d24459fafe22",
   "metadata": {},
   "source": [
    "### Below are a few examples of evaluating arithmetic expressions in Python"
   ]
  },
  {
   "cell_type": "code",
   "execution_count": 6,
   "id": "9696cfc2-1077-40ab-9d2b-77b59b512c00",
   "metadata": {
    "tags": []
   },
   "outputs": [
    {
     "data": {
      "text/plain": [
       "17"
      ]
     },
     "execution_count": 6,
     "metadata": {},
     "output_type": "execute_result"
    }
   ],
   "source": [
    "# This a simple arithmetic expression to mutiply then add integers \n",
    "\n",
    "(3*4)+5"
   ]
  },
  {
   "cell_type": "code",
   "execution_count": 7,
   "id": "cfe471bc-2f01-4fac-9b99-9280dccbc625",
   "metadata": {
    "tags": []
   },
   "outputs": [
    {
     "data": {
      "text/plain": [
       "3.3333333333333335"
      ]
     },
     "execution_count": 7,
     "metadata": {},
     "output_type": "execute_result"
    }
   ],
   "source": [
    "# 9. This will convert 200 minutes to hours by diving by 60.\n",
    "\n",
    "minutes = 200\n",
    "hours = minutes / 60\n",
    "\n",
    "hours"
   ]
  },
  {
   "cell_type": "markdown",
   "id": "7530f1ae-b087-4ec0-93ea-606dabf3bd17",
   "metadata": {},
   "source": [
    "## Author's name : John Kayangi Akilimali"
   ]
  },
  {
   "cell_type": "code",
   "execution_count": null,
   "id": "e0797e4c-d703-47b4-a0d6-570117e3fcdc",
   "metadata": {},
   "outputs": [],
   "source": []
  },
  {
   "cell_type": "code",
   "execution_count": null,
   "id": "0943374e-2508-45de-8356-39e655e90037",
   "metadata": {},
   "outputs": [],
   "source": []
  }
 ],
 "metadata": {
  "kernelspec": {
   "display_name": "Python",
   "language": "python",
   "name": "conda-env-python-py"
  },
  "language_info": {
   "codemirror_mode": {
    "name": "ipython",
    "version": 3
   },
   "file_extension": ".py",
   "mimetype": "text/x-python",
   "name": "python",
   "nbconvert_exporter": "python",
   "pygments_lexer": "ipython3",
   "version": "3.7.12"
  }
 },
 "nbformat": 4,
 "nbformat_minor": 5
}
